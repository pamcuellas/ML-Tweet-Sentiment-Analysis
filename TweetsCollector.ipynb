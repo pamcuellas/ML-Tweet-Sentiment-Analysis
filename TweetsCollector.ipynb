{
 "cells": [
  {
   "cell_type": "code",
   "execution_count": 1,
   "metadata": {},
   "outputs": [],
   "source": [
    "# Import dependences\n",
    "from searchtweets import ResultStream, gen_rule_payload, load_credentials\n",
    "from searchtweets import collect_results\n",
    "import pymongo\n",
    "import time\n",
    "import argparse\n",
    "import json\n",
    "import string\n",
    "from dateutil import parser as psr\n",
    "from datetime import datetime\n",
    "from pprint import pprint\n",
    "from config import dbname, dbuser, psswd, host, parameters\n",
    "\n",
    "connection_string ='mongodb+srv://' + dbuser + ':' + psswd + host + '/' + dbname + \"?\" + parameters\n",
    "mongo_client = pymongo.MongoClient(connection_string)\n"
   ]
  },
  {
   "cell_type": "code",
   "execution_count": 2,
   "metadata": {},
   "outputs": [
    {
     "name": "stderr",
     "output_type": "stream",
     "text": [
      "Grabbing bearer token from OAUTH\n"
     ]
    }
   ],
   "source": [
    "premium_search_args = load_credentials(filename=\"./search_tweets_creds_example.yaml\",\n",
    "                 yaml_key=\"search_tweets_fullarchive_dev\",\n",
    "                 env_overwrite=False)"
   ]
  },
  {
   "cell_type": "code",
   "execution_count": 3,
   "metadata": {},
   "outputs": [
    {
     "name": "stdout",
     "output_type": "stream",
     "text": [
      "{\"query\": \"(Greta Thunberg OR #greta OR #gretathunberg) lang:en\", \"maxResults\": 100, \"toDate\": \"201909241200\", \"fromDate\": \"201909241100\"}\n"
     ]
    }
   ],
   "source": [
    "# Create the rules to filter tweets\n",
    "stringRule = \"\"\"\n",
    "(Greta Thunberg OR #greta OR #gretathunberg)\n",
    "lang:en\n",
    "\"\"\"\n",
    "\n",
    "# Put the filters params together\n",
    "rule = gen_rule_payload(stringRule,\n",
    "                        from_date=\"2019-09-24 11:00\", #UTC 2017-09-01 00:00\n",
    "                        to_date=\"2019-09-24 12:00\",#UTC 2017-10-30 00:00\n",
    "#                         from_date=\"2019-09-23 13:00\", #UTC 2017-09-01 00:00\n",
    "#                         to_date=\"2019-09-23 23:59\",#UTC 2017-10-30 00:00\n",
    "                        results_per_call=100)\n",
    "print(rule)"
   ]
  },
  {
   "cell_type": "code",
   "execution_count": 4,
   "metadata": {},
   "outputs": [],
   "source": [
    "# Run the query and get the tweets\n",
    "tweets = collect_results(rule, max_results=500, result_stream_args=premium_search_args)"
   ]
  },
  {
   "cell_type": "code",
   "execution_count": 5,
   "metadata": {},
   "outputs": [],
   "source": [
    "# Save the tweets in a json file\n",
    "with open('.\\data\\GretaThunberg.json', 'a') as json_file:\n",
    "    for tweet in tweets:\n",
    "        json.dump(tweet, json_file)"
   ]
  },
  {
   "cell_type": "code",
   "execution_count": 6,
   "metadata": {},
   "outputs": [],
   "source": [
    "# Save the tweets on MongoDB\n",
    "for tweet in tweets:\n",
    "    try:        \n",
    "        user = {\n",
    "                \"id\":           tweet[\"user\"][\"id\"],\n",
    "                \"id_str\":       tweet[\"user\"][\"id_str\"], \n",
    "                \"name\":         tweet[\"user\"][\"name\"],\n",
    "                \"screen_name\":  tweet[\"user\"][\"screen_name\"],\n",
    "                \"location\":     tweet[\"user\"][\"location\"],\n",
    "                \"description\":  tweet[\"user\"][\"description\"],\n",
    "                \"created_at\":   psr.parse(tweet[\"user\"][\"created_at\"])\n",
    "                }\n",
    "\n",
    "        tweetObj= {\n",
    "                    '#tag':\"Greta Thunberg\",\n",
    "                    'text': tweet[\"text\"],\n",
    "                    'module_sent_an': None,\n",
    "                    'module_pollution': None,\n",
    "                    'module_politics': None,\n",
    "                    'module_environment': None,\n",
    "                    'module_hate': None,\n",
    "                    'twitter_created_at': psr.parse(tweet[\"created_at\"]),\n",
    "                    'dbai_created_at': datetime.now(),\n",
    "                    'user': user,\n",
    "                    'coordinates': tweet[\"coordinates\"],\n",
    "                    'place': tweet[\"place\"]\n",
    "                    }\n",
    "        mongo_client.dbAI.twitter.insert_one(tweetObj)\n",
    "    except BaseException as e:\n",
    "        print(\"Error db_data: %s\" % str(e))    \n",
    "    "
   ]
  },
  {
   "cell_type": "code",
   "execution_count": 7,
   "metadata": {},
   "outputs": [
    {
     "data": {
      "text/plain": [
       "500"
      ]
     },
     "execution_count": 7,
     "metadata": {},
     "output_type": "execute_result"
    }
   ],
   "source": [
    "len(tweets)"
   ]
  },
  {
   "cell_type": "code",
   "execution_count": null,
   "metadata": {},
   "outputs": [],
   "source": []
  }
 ],
 "metadata": {
  "kernelspec": {
   "display_name": "Python 3",
   "language": "python",
   "name": "python3"
  },
  "language_info": {
   "codemirror_mode": {
    "name": "ipython",
    "version": 3
   },
   "file_extension": ".py",
   "mimetype": "text/x-python",
   "name": "python",
   "nbconvert_exporter": "python",
   "pygments_lexer": "ipython3",
   "version": "3.7.3"
  }
 },
 "nbformat": 4,
 "nbformat_minor": 2
}
